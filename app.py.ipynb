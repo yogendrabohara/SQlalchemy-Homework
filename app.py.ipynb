{
 "cells": [
  {
   "cell_type": "code",
   "execution_count": 1,
   "metadata": {},
   "outputs": [],
   "source": [
    "from flask import Flask , jsonify"
   ]
  },
  {
   "cell_type": "code",
   "execution_count": 9,
   "metadata": {},
   "outputs": [],
   "source": [
    "app = Flask(__name__)\n"
   ]
  },
  {
   "cell_type": "code",
   "execution_count": null,
   "metadata": {},
   "outputs": [],
   "source": [
    "@app.route(\"/\")\n",
    "def home():\n",
    "    print(\"Server received request for 'Home' page...\")\n",
    "    return (\n",
    "        f\"Available Routes:<br/>\"\n",
    "        f\"/api/v1.0/precipitation<br>\"\n",
    "        f\"/api/v1.0/stations<br>\"\n",
    "        f\"/api/v1.0/tobs<br>\"\n",
    "        f\"/api/v1.0/ + start date<br>\"\n",
    "        f\"/api/v1.0/ + start date/ + end date\"\n",
    "    )"
   ]
  },
  {
   "cell_type": "code",
   "execution_count": 5,
   "metadata": {},
   "outputs": [],
   "source": [
    "@app.route('/api/v1.0/precipitation/')\n",
    "def precipitation():\n",
    "    prcp_results = session.query(Measurement.date, Measurement.tobs)\\\n",
    "    .filter(Measurement.date >= '2017-01-01').all()\n",
    "    p_dict = dict(prcp_results)\n",
    "    print()\n",
    "    print(\"Results for Precipitation\")\n",
    "    return jsonify(p_dict)"
   ]
  },
  {
   "cell_type": "code",
   "execution_count": 6,
   "metadata": {},
   "outputs": [],
   "source": [
    "#Query Stations for.... Stations\n",
    "# Return a JSON-list of stations from the dataset.\n",
    "@app.route('/api/v1.0/stations/')\n",
    "def stations():\n",
    "    station_list = session.query(Station.station)\\\n",
    "    .order_by(Station.station).all() \n",
    "    print()\n",
    "    print(\"Station List:\")   \n",
    "    for row in station_list:\n",
    "        print (row[0])\n",
    "    return jsonify(station_list)"
   ]
  },
  {
   "cell_type": "code",
   "execution_count": 7,
   "metadata": {},
   "outputs": [],
   "source": [
    "# Query Measurement for.... All stations\n",
    "# Return a JSON-list of Temperature Observations from the dataset.\n",
    "@app.route('/api/v1.0/tobs/')\n",
    "def tobs():\n",
    "    temp_obs = session.query(Measurement.tobs)\\\n",
    "    .order_by(Measurement.date).all()\n",
    "    print()\n",
    "    print(\"Temperature Results for All Stations\")\n",
    "    return jsonify(temp_obs)"
   ]
  },
  {
   "cell_type": "code",
   "execution_count": null,
   "metadata": {},
   "outputs": [],
   "source": [
    "if __name__ == \"__main__\":\n",
    "    app.run(debug=True)"
   ]
  }
 ],
 "metadata": {
  "kernelspec": {
   "display_name": "Python 3",
   "language": "python",
   "name": "python3"
  },
  "language_info": {
   "codemirror_mode": {
    "name": "ipython",
    "version": 3
   },
   "file_extension": ".py",
   "mimetype": "text/x-python",
   "name": "python",
   "nbconvert_exporter": "python",
   "pygments_lexer": "ipython3",
   "version": "3.7.0"
  }
 },
 "nbformat": 4,
 "nbformat_minor": 2
}
